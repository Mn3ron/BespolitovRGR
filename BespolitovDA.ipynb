{
 "cells": [
  {
   "cell_type": "markdown",
   "id": "601d46d1",
   "metadata": {},
   "source": [
    "\\begin{array}{ccc}\n",
    "\\text{Прописные}&\\text{Строчные}&\\text{Название}\\\\\n",
    "\\text{Α}&\\text{α}&\\text{альфа}\\\\\n",
    "\\text{Β}&\\text{β}&\\text{бета}\\\\\n",
    "\\text{ℾ}&\\text{γ}&\\text{гамма}\\\\\n",
    "\\text{Δ}&\\text{δ}&\\text{дельта}\\\\\n",
    "\\text{Ε}&\\text{ϵ}&\\text{эпсилон}\\\\\n",
    "\\text{Ζ}&\\text{ζ}&\\text{дзета}\\\\\n",
    "\\text{Η}&\\text{η}&\\text{эта}\\\\\n",
    "\\text{ϴ}&\\text{θ}&\\text{тета}\\\\\n",
    "\\text{Ι}&\\text{ι}&\\text{йота}\\\\\n",
    "\\text{Κ}&\\text{κ}&\\text{каппа}\\\\\n",
    "\\text{Λ}&\\text{λ}&\\text{лямбда}\\\\\n",
    "\\text{Μ}&\\text{μ}&\\text{мю}\\\\\n",
    "\\text{Ν}&\\text{ν}&\\text{ню}\\\\\n",
    "\\text{Ξ}&\\text{ξ}&\\text{кси}\\\\\n",
    "\\text{Ο}&\\text{ο}&\\text{омикрон}\\\\\n",
    "\\text{ℿ}&\\text{π}&\\text{пи}\\\\\n",
    "\\text{Ρ}&\\text{ρ}&\\text{ро}\\\\\n",
    "\\text{Σ}&\\text{σ}&\\text{сигма}\\\\\n",
    "\\text{Τ}&\\text{τ}&\\text{тау}\\\\\n",
    "\\text{Υ}&\\text{υ}&\\text{ипсилон}\\\\\n",
    "\\text{Φ}&\\text{ϕ}&\\text{фи}\\\\\n",
    "\\text{Χ}&\\text{χ}&\\text{хи}\\\\\n",
    "\\text{Ψ}&\\text{ψ}&\\text{пси}\\\\\n",
    "\\text{Ω}&\\text{ω}&\\text{омега}\\\\\n",
    "\\end{array}"
   ]
  },
  {
   "cell_type": "markdown",
   "id": "b723fd8b",
   "metadata": {},
   "source": [
    "Формула в отдельной строке\n",
    "$${\\displaystyle f(x) ={\\frac {1}{\\sigma {\\sqrt {2\\pi }}}}e^{-{\\frac {1}{2}}\n",
    "\\left({\\frac {x-\\mu }{\\sigma }}\\right)^{2}}}$$"
   ]
  },
  {
   "cell_type": "markdown",
   "id": "8a6e56f4",
   "metadata": {},
   "source": [
    "Формула в тексте: ${\\displaystyle f(x) ={\\frac {1}{\\sigma {\\sqrt {2\\pi }}}}e^{-{\\frac {1}{2}}\n",
    "\\left({\\frac {x-\\mu }{\\sigma }}\\right)^{2}}}$$"
   ]
  },
  {
   "cell_type": "markdown",
   "id": "db1f0582",
   "metadata": {},
   "source": [
    "# Заголовок первого уровня"
   ]
  },
  {
   "cell_type": "markdown",
   "id": "60685bb3",
   "metadata": {},
   "source": [
    "## Заголовок второго уровня"
   ]
  },
  {
   "cell_type": "markdown",
   "id": "c846a259",
   "metadata": {},
   "source": [
    "### Заголовок третьего уровня"
   ]
  },
  {
   "cell_type": "code",
   "execution_count": null,
   "id": "8ceedd66",
   "metadata": {},
   "outputs": [],
   "source": []
  }
 ],
 "metadata": {
  "kernelspec": {
   "display_name": "Python 3",
   "language": "python",
   "name": "python3"
  },
  "language_info": {
   "codemirror_mode": {
    "name": "ipython",
    "version": 3
   },
   "file_extension": ".py",
   "mimetype": "text/x-python",
   "name": "python",
   "nbconvert_exporter": "python",
   "pygments_lexer": "ipython3",
   "version": "3.6.15"
  }
 },
 "nbformat": 4,
 "nbformat_minor": 5
}
